{
  "nbformat": 4,
  "nbformat_minor": 0,
  "metadata": {
    "colab": {
      "provenance": [],
      "authorship_tag": "ABX9TyPqm3VdszianqwBc2E5wbqL",
      "include_colab_link": true
    },
    "kernelspec": {
      "name": "python3",
      "display_name": "Python 3"
    },
    "language_info": {
      "name": "python"
    }
  },
  "cells": [
    {
      "cell_type": "markdown",
      "metadata": {
        "id": "view-in-github",
        "colab_type": "text"
      },
      "source": [
        "<a href=\"https://colab.research.google.com/github/Nimalnix/Deep-Learning/blob/main/Matrix_math_exercise_solution.ipynb\" target=\"_parent\"><img src=\"https://colab.research.google.com/assets/colab-badge.svg\" alt=\"Open In Colab\"/></a>"
      ]
    },
    {
      "cell_type": "code",
      "execution_count": 2,
      "metadata": {
        "id": "KUQBzfLSn0aK"
      },
      "outputs": [],
      "source": [
        "import numpy as np"
      ]
    },
    {
      "cell_type": "markdown",
      "source": [
        "**Solution 1: Convert USD revenues to INR**"
      ],
      "metadata": {
        "id": "g6Huq_HA5ANQ"
      }
    },
    {
      "cell_type": "code",
      "source": [
        "revenue_usd=np.array([[200,220,250],[68,79,105],[110,140,180],[80,85,90]])\n",
        "revenue_inr=75*revenue_usd\n",
        "revenue_usd"
      ],
      "metadata": {
        "colab": {
          "base_uri": "https://localhost:8080/"
        },
        "id": "tFzdG19e5C8S",
        "outputId": "33f09f5a-4584-4bbb-931a-1cf8bccd0d0d"
      },
      "execution_count": 3,
      "outputs": [
        {
          "output_type": "execute_result",
          "data": {
            "text/plain": [
              "array([[200, 220, 250],\n",
              "       [ 68,  79, 105],\n",
              "       [110, 140, 180],\n",
              "       [ 80,  85,  90]])"
            ]
          },
          "metadata": {},
          "execution_count": 3
        }
      ]
    },
    {
      "cell_type": "code",
      "source": [
        "revenue_inr"
      ],
      "metadata": {
        "colab": {
          "base_uri": "https://localhost:8080/"
        },
        "id": "_dcaEEkj58Sp",
        "outputId": "3e3c7882-f665-4d85-b4ca-86f66ba5cc9f"
      },
      "execution_count": 4,
      "outputs": [
        {
          "output_type": "execute_result",
          "data": {
            "text/plain": [
              "array([[15000, 16500, 18750],\n",
              "       [ 5100,  5925,  7875],\n",
              "       [ 8250, 10500, 13500],\n",
              "       [ 6000,  6375,  6750]])"
            ]
          },
          "metadata": {},
          "execution_count": 4
        }
      ]
    },
    {
      "cell_type": "code",
      "source": [],
      "metadata": {
        "id": "nRfK5nAt6Fba"
      },
      "execution_count": null,
      "outputs": []
    },
    {
      "cell_type": "markdown",
      "source": [
        "**Solution 2: Calculate total flowers sale every month for divine flowers shop**"
      ],
      "metadata": {
        "id": "n54KJEmn6Hcf"
      }
    },
    {
      "cell_type": "code",
      "source": [
        "unit_sold=np.array([[50,60,25],[10,13,5],[40,70,52]])\n",
        "price_per_unit=np.array([20,30,15])"
      ],
      "metadata": {
        "id": "aNwOJDgx6dCN"
      },
      "execution_count": 5,
      "outputs": []
    },
    {
      "cell_type": "code",
      "source": [
        "total_sales_amount=np.dot(price_per_unit,unit_sold)\n",
        "total_sales_amount"
      ],
      "metadata": {
        "colab": {
          "base_uri": "https://localhost:8080/"
        },
        "id": "1JXlx9_p6trB",
        "outputId": "77c6f247-105d-41f6-dbeb-3321582dc751"
      },
      "execution_count": 6,
      "outputs": [
        {
          "output_type": "execute_result",
          "data": {
            "text/plain": [
              "array([1900, 2640, 1430])"
            ]
          },
          "metadata": {},
          "execution_count": 6
        }
      ]
    }
  ]
}