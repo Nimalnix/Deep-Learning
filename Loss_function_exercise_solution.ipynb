{
  "nbformat": 4,
  "nbformat_minor": 0,
  "metadata": {
    "colab": {
      "provenance": [],
      "authorship_tag": "ABX9TyMQQ/nloLH2Uy2ipUEclPD0",
      "include_colab_link": true
    },
    "kernelspec": {
      "name": "python3",
      "display_name": "Python 3"
    },
    "language_info": {
      "name": "python"
    }
  },
  "cells": [
    {
      "cell_type": "markdown",
      "metadata": {
        "id": "view-in-github",
        "colab_type": "text"
      },
      "source": [
        "<a href=\"https://colab.research.google.com/github/Nimalnix/Deep-Learning/blob/main/Loss_function_exercise_solution.ipynb\" target=\"_parent\"><img src=\"https://colab.research.google.com/assets/colab-badge.svg\" alt=\"Open In Colab\"/></a>"
      ]
    },
    {
      "cell_type": "markdown",
      "source": [
        "**Loss function exercise: Implement Mean Squared Error Function In Python**"
      ],
      "metadata": {
        "id": "eIAB7yfXXKi9"
      }
    },
    {
      "cell_type": "markdown",
      "source": [
        "mean squared error function first without using numpy and then using numpy"
      ],
      "metadata": {
        "id": "P-famdO4XOlo"
      }
    },
    {
      "cell_type": "markdown",
      "source": [
        "**Solution 1: Without using numpy**"
      ],
      "metadata": {
        "id": "pFOKhoGGXSIl"
      }
    },
    {
      "cell_type": "code",
      "source": [
        "import numpy as np\n",
        "\n",
        "y_predicted = np.array([1,1,0,0,1])\n",
        "y_true = np.array([0.30,0.7,1,0,0.5])"
      ],
      "metadata": {
        "id": "RCybR6fOXUk8"
      },
      "execution_count": 1,
      "outputs": []
    },
    {
      "cell_type": "code",
      "source": [
        "def mse(y_true, y_predicted):\n",
        "    total_error = 0\n",
        "    for yt, yp in zip(y_true, y_predicted):\n",
        "        total_error += (yt-yp)**2\n",
        "    print(\"Total Squared Error:\",total_error)\n",
        "    mse = total_error/len(y_true)\n",
        "    print(\"Mean Squared Error:\",mse)\n",
        "    return mse"
      ],
      "metadata": {
        "id": "vTSX4TL0XV8D"
      },
      "execution_count": 6,
      "outputs": []
    },
    {
      "cell_type": "code",
      "source": [
        "mse(y_true, y_predicted)"
      ],
      "metadata": {
        "colab": {
          "base_uri": "https://localhost:8080/"
        },
        "id": "198toE-rYIBk",
        "outputId": "94845bb3-493d-4a02-9a6c-b04a7f733b60"
      },
      "execution_count": 7,
      "outputs": [
        {
          "output_type": "stream",
          "name": "stdout",
          "text": [
            "Total Squared Error: 1.83\n",
            "Mean Squared Error: 0.366\n"
          ]
        },
        {
          "output_type": "execute_result",
          "data": {
            "text/plain": [
              "0.366"
            ]
          },
          "metadata": {},
          "execution_count": 7
        }
      ]
    },
    {
      "cell_type": "markdown",
      "source": [
        "**Solution 2: By using numpy**"
      ],
      "metadata": {
        "id": "fuOdTm0SYKfl"
      }
    },
    {
      "cell_type": "code",
      "source": [
        "np.mean(np.square(y_true-y_predicted))"
      ],
      "metadata": {
        "colab": {
          "base_uri": "https://localhost:8080/"
        },
        "id": "ahE6039WYO7M",
        "outputId": "92b01515-ceaa-48d4-84c5-9259cc044cb4"
      },
      "execution_count": 9,
      "outputs": [
        {
          "output_type": "execute_result",
          "data": {
            "text/plain": [
              "0.366"
            ]
          },
          "metadata": {},
          "execution_count": 9
        }
      ]
    }
  ]
}